{
 "cells": [
  {
   "cell_type": "markdown",
   "id": "30e3a2f0",
   "metadata": {},
   "source": [
    "# Build model\n",
    "\n",
    "I use sample mnist model on Keras website to give example of how I inference tflite model with dynamic input size\n",
    "I follow all the instruction and train model."
   ]
  },
  {
   "cell_type": "code",
   "execution_count": 1,
   "id": "9d163f86",
   "metadata": {},
   "outputs": [
    {
     "data": {
      "text/plain": [
       "'\\nTitle: Simple MNIST convnet\\nAuthor: [fchollet](https://twitter.com/fchollet)\\nDate created: 2015/06/19\\nLast modified: 2020/04/21\\nDescription: A simple convnet that achieves ~99% test accuracy on MNIST.\\nAccelerator: GPU\\n'"
      ]
     },
     "execution_count": 1,
     "metadata": {},
     "output_type": "execute_result"
    }
   ],
   "source": [
    "\"\"\"\n",
    "Title: Simple MNIST convnet\n",
    "Author: [fchollet](https://twitter.com/fchollet)\n",
    "Date created: 2015/06/19\n",
    "Last modified: 2020/04/21\n",
    "Description: A simple convnet that achieves ~99% test accuracy on MNIST.\n",
    "Accelerator: GPU\n",
    "\"\"\""
   ]
  },
  {
   "cell_type": "code",
   "execution_count": 1,
   "id": "6b43a83e",
   "metadata": {},
   "outputs": [],
   "source": [
    "import numpy as np\n",
    "from tensorflow import keras\n",
    "from tensorflow.keras import layers"
   ]
  },
  {
   "cell_type": "code",
   "execution_count": 2,
   "id": "41c04183",
   "metadata": {},
   "outputs": [
    {
     "name": "stdout",
     "output_type": "stream",
     "text": [
      "x_train shape: (60000, 28, 28, 1)\n",
      "60000 train samples\n",
      "10000 test samples\n"
     ]
    }
   ],
   "source": [
    "# Model / data parameters\n",
    "num_classes = 10\n",
    "input_shape = (28, 28, 1)\n",
    "\n",
    "# Load the data and split it between train and test sets\n",
    "(x_train, y_train), (x_test, y_test) = keras.datasets.mnist.load_data()\n",
    "\n",
    "# Scale images to the [0, 1] range\n",
    "x_train = x_train.astype(\"float32\") / 255\n",
    "x_test = x_test.astype(\"float32\") / 255\n",
    "# Make sure images have shape (28, 28, 1)\n",
    "x_train = np.expand_dims(x_train, -1)\n",
    "x_test = np.expand_dims(x_test, -1)\n",
    "print(\"x_train shape:\", x_train.shape)\n",
    "print(x_train.shape[0], \"train samples\")\n",
    "print(x_test.shape[0], \"test samples\")\n",
    "\n",
    "\n",
    "# convert class vectors to binary class matrices\n",
    "y_train = keras.utils.to_categorical(y_train, num_classes)\n",
    "y_test = keras.utils.to_categorical(y_test, num_classes)"
   ]
  },
  {
   "cell_type": "code",
   "execution_count": 4,
   "id": "78bd17f6",
   "metadata": {},
   "outputs": [
    {
     "name": "stdout",
     "output_type": "stream",
     "text": [
      "Model: \"sequential\"\n",
      "_________________________________________________________________\n",
      " Layer (type)                Output Shape              Param #   \n",
      "=================================================================\n",
      " conv2d (Conv2D)             (None, 26, 26, 32)        320       \n",
      "                                                                 \n",
      " max_pooling2d (MaxPooling2D  (None, 13, 13, 32)       0         \n",
      " )                                                               \n",
      "                                                                 \n",
      " conv2d_1 (Conv2D)           (None, 11, 11, 64)        18496     \n",
      "                                                                 \n",
      " max_pooling2d_1 (MaxPooling  (None, 5, 5, 64)         0         \n",
      " 2D)                                                             \n",
      "                                                                 \n",
      " flatten (Flatten)           (None, 1600)              0         \n",
      "                                                                 \n",
      " dropout (Dropout)           (None, 1600)              0         \n",
      "                                                                 \n",
      " dense (Dense)               (None, 10)                16010     \n",
      "                                                                 \n",
      "=================================================================\n",
      "Total params: 34,826\n",
      "Trainable params: 34,826\n",
      "Non-trainable params: 0\n",
      "_________________________________________________________________\n"
     ]
    }
   ],
   "source": [
    "model = keras.Sequential(\n",
    "    [\n",
    "        keras.Input(shape=input_shape),\n",
    "        layers.Conv2D(32, kernel_size=(3, 3), activation=\"relu\"),\n",
    "        layers.MaxPooling2D(pool_size=(2, 2)),\n",
    "        layers.Conv2D(64, kernel_size=(3, 3), activation=\"relu\"),\n",
    "        layers.MaxPooling2D(pool_size=(2, 2)),\n",
    "        layers.Flatten(),\n",
    "        layers.Dropout(0.5),\n",
    "        layers.Dense(num_classes, activation=\"softmax\"),\n",
    "    ]\n",
    ")\n",
    "\n",
    "model.summary()"
   ]
  },
  {
   "cell_type": "code",
   "execution_count": 5,
   "id": "a8965a85",
   "metadata": {},
   "outputs": [
    {
     "name": "stdout",
     "output_type": "stream",
     "text": [
      "Epoch 1/15\n",
      "422/422 [==============================] - 37s 83ms/step - loss: 0.3657 - accuracy: 0.8891 - val_loss: 0.0819 - val_accuracy: 0.9788\n",
      "Epoch 2/15\n",
      "422/422 [==============================] - 34s 80ms/step - loss: 0.1132 - accuracy: 0.9650 - val_loss: 0.0575 - val_accuracy: 0.9837\n",
      "Epoch 3/15\n",
      "422/422 [==============================] - 37s 87ms/step - loss: 0.0851 - accuracy: 0.9734 - val_loss: 0.0508 - val_accuracy: 0.9877\n",
      "Epoch 4/15\n",
      "422/422 [==============================] - 32s 76ms/step - loss: 0.0709 - accuracy: 0.9773 - val_loss: 0.0405 - val_accuracy: 0.9888\n",
      "Epoch 5/15\n",
      "422/422 [==============================] - 32s 75ms/step - loss: 0.0633 - accuracy: 0.9806 - val_loss: 0.0410 - val_accuracy: 0.9887\n",
      "Epoch 6/15\n",
      "422/422 [==============================] - 34s 80ms/step - loss: 0.0585 - accuracy: 0.9820 - val_loss: 0.0377 - val_accuracy: 0.9893\n",
      "Epoch 7/15\n",
      "422/422 [==============================] - 33s 78ms/step - loss: 0.0504 - accuracy: 0.9845 - val_loss: 0.0352 - val_accuracy: 0.9895\n",
      "Epoch 8/15\n",
      "422/422 [==============================] - 32s 77ms/step - loss: 0.0478 - accuracy: 0.9851 - val_loss: 0.0325 - val_accuracy: 0.9917\n",
      "Epoch 9/15\n",
      "422/422 [==============================] - 32s 76ms/step - loss: 0.0442 - accuracy: 0.9859 - val_loss: 0.0336 - val_accuracy: 0.9902\n",
      "Epoch 10/15\n",
      "422/422 [==============================] - 32s 77ms/step - loss: 0.0419 - accuracy: 0.9864 - val_loss: 0.0337 - val_accuracy: 0.9915\n",
      "Epoch 11/15\n",
      "422/422 [==============================] - 34s 80ms/step - loss: 0.0414 - accuracy: 0.9865 - val_loss: 0.0323 - val_accuracy: 0.9910\n",
      "Epoch 12/15\n",
      "422/422 [==============================] - 34s 81ms/step - loss: 0.0395 - accuracy: 0.9873 - val_loss: 0.0306 - val_accuracy: 0.9900\n",
      "Epoch 13/15\n",
      "422/422 [==============================] - 34s 80ms/step - loss: 0.0356 - accuracy: 0.9881 - val_loss: 0.0304 - val_accuracy: 0.9915\n",
      "Epoch 14/15\n",
      "422/422 [==============================] - 35s 82ms/step - loss: 0.0354 - accuracy: 0.9888 - val_loss: 0.0306 - val_accuracy: 0.9920\n",
      "Epoch 15/15\n",
      "422/422 [==============================] - 33s 78ms/step - loss: 0.0336 - accuracy: 0.9894 - val_loss: 0.0288 - val_accuracy: 0.9918\n"
     ]
    },
    {
     "data": {
      "text/plain": [
       "<keras.callbacks.History at 0x2cbd1d0aef0>"
      ]
     },
     "execution_count": 5,
     "metadata": {},
     "output_type": "execute_result"
    }
   ],
   "source": [
    "batch_size = 128\n",
    "epochs = 15\n",
    "\n",
    "model.compile(loss=\"categorical_crossentropy\", optimizer=\"adam\", metrics=[\"accuracy\"])\n",
    "\n",
    "model.fit(x_train, y_train, batch_size=batch_size, epochs=epochs, validation_split=0.1)"
   ]
  },
  {
   "cell_type": "code",
   "execution_count": 6,
   "id": "2a3ad714",
   "metadata": {},
   "outputs": [
    {
     "name": "stdout",
     "output_type": "stream",
     "text": [
      "Test loss: 0.02495250105857849\n",
      "Test accuracy: 0.9911999702453613\n"
     ]
    }
   ],
   "source": [
    "score = model.evaluate(x_test, y_test, verbose=0)\n",
    "print(\"Test loss:\", score[0])\n",
    "print(\"Test accuracy:\", score[1])"
   ]
  },
  {
   "cell_type": "markdown",
   "id": "6fe140da",
   "metadata": {},
   "source": [
    "# Data \n",
    "\n",
    "Here we would like to take the two first images to do prediction"
   ]
  },
  {
   "cell_type": "code",
   "execution_count": 3,
   "id": "a729e063",
   "metadata": {},
   "outputs": [],
   "source": [
    "import matplotlib.pyplot as plt\n",
    "import os\n",
    "os.environ['KMP_DUPLICATE_LIB_OK'] = 'True'"
   ]
  },
  {
   "cell_type": "code",
   "execution_count": 29,
   "id": "a8f34c3f",
   "metadata": {},
   "outputs": [
    {
     "data": {
      "text/plain": [
       "(2, 28, 28, 1)"
      ]
     },
     "execution_count": 29,
     "metadata": {},
     "output_type": "execute_result"
    }
   ],
   "source": [
    "batches = np.array([x_test[0], x_test[1]])\n",
    "#The input batch size now is 2\n",
    "batches.shape"
   ]
  },
  {
   "cell_type": "markdown",
   "id": "8cf5a3fc",
   "metadata": {},
   "source": [
    "# Convert model to tflite"
   ]
  },
  {
   "cell_type": "code",
   "execution_count": 8,
   "id": "22b83a5b",
   "metadata": {},
   "outputs": [
    {
     "name": "stderr",
     "output_type": "stream",
     "text": [
      "WARNING:absl:Found untraced functions such as _jit_compiled_convolution_op, _jit_compiled_convolution_op while saving (showing 2 of 2). These functions will not be directly callable after loading.\n"
     ]
    },
    {
     "name": "stdout",
     "output_type": "stream",
     "text": [
      "INFO:tensorflow:Assets written to: C:\\Users\\ACER\\AppData\\Local\\Temp\\tmpq5q9e79z\\assets\n"
     ]
    },
    {
     "name": "stderr",
     "output_type": "stream",
     "text": [
      "INFO:tensorflow:Assets written to: C:\\Users\\ACER\\AppData\\Local\\Temp\\tmpq5q9e79z\\assets\n"
     ]
    }
   ],
   "source": [
    "#I did convert keras model to tflite beforehand and save it into model.tflite \n",
    "import tensorflow as tf\n",
    "#Load tflite converter\n",
    "converter = tf.lite.TFLiteConverter.from_keras_model(model)\n",
    "tflite_model = converter.convert()\n",
    "\n",
    "# Save the model.\n",
    "with open('model.tflite', 'wb') as f:\n",
    "    f.write(tflite_model)"
   ]
  },
  {
   "cell_type": "code",
   "execution_count": 30,
   "id": "b319e5e7",
   "metadata": {},
   "outputs": [
    {
     "name": "stdout",
     "output_type": "stream",
     "text": [
      "[{'name': 'serving_default_input_1:0', 'index': 0, 'shape': array([ 1, 28, 28,  1]), 'shape_signature': array([-1, 28, 28,  1]), 'dtype': <class 'numpy.float32'>, 'quantization': (0.0, 0), 'quantization_parameters': {'scales': array([], dtype=float32), 'zero_points': array([], dtype=int32), 'quantized_dimension': 0}, 'sparsity_parameters': {}}]\n",
      "[{'name': 'StatefulPartitionedCall:0', 'index': 14, 'shape': array([ 1, 10]), 'shape_signature': array([-1, 10]), 'dtype': <class 'numpy.float32'>, 'quantization': (0.0, 0), 'quantization_parameters': {'scales': array([], dtype=float32), 'zero_points': array([], dtype=int32), 'quantized_dimension': 0}, 'sparsity_parameters': {}}]\n"
     ]
    }
   ],
   "source": [
    "#Now we load tflite interpreter\n",
    "interpreter = tf.lite.Interpreter('model.tflite')\n",
    "\n",
    "#Get to see input and output details\n",
    "input_details = interpreter.get_input_details()\n",
    "output_details = interpreter.get_output_details()\n",
    "\n",
    "print(input_details)\n",
    "print(output_details)"
   ]
  },
  {
   "cell_type": "markdown",
   "id": "e169925f",
   "metadata": {},
   "source": [
    "The current batch size is now 1, but we want 2.\n",
    "If you look at 'shape_signature', you would see batch size is now -1, which indicates that it can be changed"
   ]
  },
  {
   "cell_type": "code",
   "execution_count": 31,
   "id": "03fc4f83",
   "metadata": {},
   "outputs": [],
   "source": [
    "#Change Unknown input dimensions by using resize_tensor_input and set strict = True\n",
    "tensor_shape = batches.shape\n",
    "interpreter.resize_tensor_input(input_details[0]['index'], tensor_shape)\n",
    "interpreter.allocate_tensors()"
   ]
  },
  {
   "cell_type": "markdown",
   "id": "ca682f23",
   "metadata": {},
   "source": [
    "In tf.tflite.Interpreter.resize_tensor_input document, they said \"Only unknown dimensions can be resized when strict is True. Unknown dimensions are indicated as -1 in the shape_signature attribute of a given tensor. (default False)\",\n",
    "So in case, you fail to resize_tensor_input, you can try by set 'strict' to 'True', but remember to test result."
   ]
  },
  {
   "cell_type": "code",
   "execution_count": 32,
   "id": "c7e69c01",
   "metadata": {},
   "outputs": [
    {
     "name": "stdout",
     "output_type": "stream",
     "text": [
      "[{'name': 'serving_default_input_1:0', 'index': 0, 'shape': array([ 2, 28, 28,  1]), 'shape_signature': array([-1, 28, 28,  1]), 'dtype': <class 'numpy.float32'>, 'quantization': (0.0, 0), 'quantization_parameters': {'scales': array([], dtype=float32), 'zero_points': array([], dtype=int32), 'quantized_dimension': 0}, 'sparsity_parameters': {}}]\n",
      "[{'name': 'StatefulPartitionedCall:0', 'index': 14, 'shape': array([ 2, 10]), 'shape_signature': array([-1, 10]), 'dtype': <class 'numpy.float32'>, 'quantization': (0.0, 0), 'quantization_parameters': {'scales': array([], dtype=float32), 'zero_points': array([], dtype=int32), 'quantized_dimension': 0}, 'sparsity_parameters': {}}]\n"
     ]
    }
   ],
   "source": [
    "#Get input and output tensors\n",
    "input_details = interpreter.get_input_details()\n",
    "output_details = interpreter.get_output_details()\n",
    "\n",
    "print(input_details)\n",
    "print(output_details)"
   ]
  },
  {
   "cell_type": "code",
   "execution_count": 33,
   "id": "28ad3fcf",
   "metadata": {},
   "outputs": [],
   "source": [
    "#Now let's run testing\n",
    "#Set input tensor\n",
    "interpreter.set_tensor(input_details[0]['index'], batches)\n",
    "interpreter.invoke()\n",
    "#Get output\n",
    "output_data = interpreter.get_tensor(output_details[0]['index'])"
   ]
  },
  {
   "cell_type": "code",
   "execution_count": 34,
   "id": "9a0fd309",
   "metadata": {},
   "outputs": [
    {
     "data": {
      "text/plain": [
       "(2, 10)"
      ]
     },
     "execution_count": 34,
     "metadata": {},
     "output_type": "execute_result"
    }
   ],
   "source": [
    "output_data.shape"
   ]
  },
  {
   "cell_type": "code",
   "execution_count": 35,
   "id": "7cb4e4cc",
   "metadata": {},
   "outputs": [
    {
     "data": {
      "text/plain": [
       "array([7, 2], dtype=int64)"
      ]
     },
     "execution_count": 35,
     "metadata": {},
     "output_type": "execute_result"
    }
   ],
   "source": [
    "#Confirm the result\n",
    "out_label = np.argmax(output_data,axis = 1)\n",
    "out_label"
   ]
  },
  {
   "cell_type": "code",
   "execution_count": 36,
   "id": "d00f14c0",
   "metadata": {},
   "outputs": [
    {
     "data": {
      "text/plain": [
       "<matplotlib.image.AxesImage at 0x1f2c618a6b0>"
      ]
     },
     "execution_count": 36,
     "metadata": {},
     "output_type": "execute_result"
    },
    {
     "data": {
      "image/png": "[encoded data removed]",
      "text/plain": [
       "<Figure size 640x480 with 2 Axes>"
      ]
     },
     "metadata": {},
     "output_type": "display_data"
    }
   ],
   "source": [
    "#Plot test data\n",
    "fig = plt.figure()\n",
    "\n",
    "fig.add_subplot(1,2, 1)\n",
    "plt.imshow(batches[0])\n",
    "\n",
    "fig.add_subplot(1,2,2)\n",
    "plt.imshow(batches[1])"
   ]
  },
  {
   "cell_type": "markdown",
   "id": "afe7a356",
   "metadata": {},
   "source": [
    "That's all thank you and good bye"
   ]
  }
 ],
 "metadata": {
  "kernelspec": {
   "display_name": "myenv",
   "language": "python",
   "name": "myenv"
  },
  "language_info": {
   "codemirror_mode": {
    "name": "ipython",
    "version": 3
   },
   "file_extension": ".py",
   "mimetype": "text/x-python",
   "name": "python",
   "nbconvert_exporter": "python",
   "pygments_lexer": "ipython3",
   "version": "3.10.12"
  }
 },
 "nbformat": 4,
 "nbformat_minor": 5
}
